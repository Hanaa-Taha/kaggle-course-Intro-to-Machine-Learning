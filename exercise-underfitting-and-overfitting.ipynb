{
 "cells": [
  {
   "cell_type": "markdown",
   "id": "28770bd9",
   "metadata": {
    "papermill": {
     "duration": 0.014391,
     "end_time": "2022-02-14T21:01:30.375181",
     "exception": false,
     "start_time": "2022-02-14T21:01:30.360790",
     "status": "completed"
    },
    "tags": []
   },
   "source": [
    "**This notebook is an exercise in the [Introduction to Machine Learning](https://www.kaggle.com/learn/intro-to-machine-learning) course.  You can reference the tutorial at [this link](https://www.kaggle.com/dansbecker/underfitting-and-overfitting).**\n",
    "\n",
    "---\n"
   ]
  },
  {
   "cell_type": "markdown",
   "id": "d536b49b",
   "metadata": {
    "papermill": {
     "duration": 0.010955,
     "end_time": "2022-02-14T21:01:30.397848",
     "exception": false,
     "start_time": "2022-02-14T21:01:30.386893",
     "status": "completed"
    },
    "tags": []
   },
   "source": [
    "## Recap\n",
    "You've built your first model, and now it's time to optimize the size of the tree to make better predictions. Run this cell to set up your coding environment where the previous step left off."
   ]
  },
  {
   "cell_type": "code",
   "execution_count": 1,
   "id": "ec081676",
   "metadata": {
    "execution": {
     "iopub.execute_input": "2022-02-14T21:01:30.436442Z",
     "iopub.status.busy": "2022-02-14T21:01:30.435508Z",
     "iopub.status.idle": "2022-02-14T21:01:31.684951Z",
     "shell.execute_reply": "2022-02-14T21:01:31.683917Z",
     "shell.execute_reply.started": "2022-02-14T20:16:00.030096Z"
    },
    "papermill": {
     "duration": 1.276282,
     "end_time": "2022-02-14T21:01:31.685173",
     "exception": false,
     "start_time": "2022-02-14T21:01:30.408891",
     "status": "completed"
    },
    "tags": []
   },
   "outputs": [
    {
     "name": "stdout",
     "output_type": "stream",
     "text": [
      "Validation MAE: 29,653\n",
      "\n",
      "Setup complete\n"
     ]
    }
   ],
   "source": [
    "# Code you have previously used to load data\n",
    "import pandas as pd\n",
    "from sklearn.metrics import mean_absolute_error\n",
    "from sklearn.model_selection import train_test_split\n",
    "from sklearn.tree import DecisionTreeRegressor\n",
    "\n",
    "\n",
    "# Path of the file to read\n",
    "iowa_file_path = '../input/home-data-for-ml-course/train.csv'\n",
    "\n",
    "home_data = pd.read_csv(iowa_file_path)\n",
    "# Create target object and call it y\n",
    "y = home_data.SalePrice\n",
    "# Create X\n",
    "features = ['LotArea', 'YearBuilt', '1stFlrSF', '2ndFlrSF', 'FullBath', 'BedroomAbvGr', 'TotRmsAbvGrd']\n",
    "X = home_data[features]\n",
    "\n",
    "# Split into validation and training data\n",
    "train_X, val_X, train_y, val_y = train_test_split(X, y, random_state=1)\n",
    "\n",
    "# Specify Model\n",
    "iowa_model = DecisionTreeRegressor(random_state=1)\n",
    "# Fit Model\n",
    "iowa_model.fit(train_X, train_y)\n",
    "\n",
    "# Make validation predictions and calculate mean absolute error\n",
    "val_predictions = iowa_model.predict(val_X)\n",
    "val_mae = mean_absolute_error(val_predictions, val_y)\n",
    "print(\"Validation MAE: {:,.0f}\".format(val_mae))\n",
    "\n",
    "# Set up code checking\n",
    "from learntools.core import binder\n",
    "binder.bind(globals())\n",
    "from learntools.machine_learning.ex5 import *\n",
    "print(\"\\nSetup complete\")"
   ]
  },
  {
   "cell_type": "markdown",
   "id": "878d4b19",
   "metadata": {
    "papermill": {
     "duration": 0.010842,
     "end_time": "2022-02-14T21:01:31.708922",
     "exception": false,
     "start_time": "2022-02-14T21:01:31.698080",
     "status": "completed"
    },
    "tags": []
   },
   "source": [
    "# Exercises\n",
    "You could write the function `get_mae` yourself. For now, we'll supply it. This is the same function you read about in the previous lesson. Just run the cell below."
   ]
  },
  {
   "cell_type": "code",
   "execution_count": 2,
   "id": "4d71249f",
   "metadata": {
    "execution": {
     "iopub.execute_input": "2022-02-14T21:01:31.737153Z",
     "iopub.status.busy": "2022-02-14T21:01:31.736253Z",
     "iopub.status.idle": "2022-02-14T21:01:31.739209Z",
     "shell.execute_reply": "2022-02-14T21:01:31.738741Z",
     "shell.execute_reply.started": "2022-02-14T20:39:26.537572Z"
    },
    "papermill": {
     "duration": 0.019542,
     "end_time": "2022-02-14T21:01:31.739381",
     "exception": false,
     "start_time": "2022-02-14T21:01:31.719839",
     "status": "completed"
    },
    "tags": []
   },
   "outputs": [],
   "source": [
    "def get_mae(max_leaf_nodes, train_X, val_X, train_y, val_y):\n",
    "    model = DecisionTreeRegressor(max_leaf_nodes=max_leaf_nodes, random_state=0)\n",
    "    model.fit(train_X, train_y)\n",
    "    preds_val = model.predict(val_X)\n",
    "    mae = mean_absolute_error(val_y, preds_val)\n",
    "    return(mae)\n",
    "\n"
   ]
  },
  {
   "cell_type": "markdown",
   "id": "e80e0170",
   "metadata": {
    "papermill": {
     "duration": 0.010788,
     "end_time": "2022-02-14T21:01:31.761249",
     "exception": false,
     "start_time": "2022-02-14T21:01:31.750461",
     "status": "completed"
    },
    "tags": []
   },
   "source": [
    "## Step 1: Compare Different Tree Sizes\n",
    "Write a loop that tries the following values for *max_leaf_nodes* from a set of possible values.\n",
    "\n",
    "Call the *get_mae* function on each value of max_leaf_nodes. Store the output in some way that allows you to select the value of `max_leaf_nodes` that gives the most accurate model on your data."
   ]
  },
  {
   "cell_type": "code",
   "execution_count": 3,
   "id": "78326d02",
   "metadata": {
    "execution": {
     "iopub.execute_input": "2022-02-14T21:01:31.791633Z",
     "iopub.status.busy": "2022-02-14T21:01:31.790634Z",
     "iopub.status.idle": "2022-02-14T21:01:31.834629Z",
     "shell.execute_reply": "2022-02-14T21:01:31.835063Z",
     "shell.execute_reply.started": "2022-02-14T20:56:55.650880Z"
    },
    "papermill": {
     "duration": 0.063018,
     "end_time": "2022-02-14T21:01:31.835212",
     "exception": false,
     "start_time": "2022-02-14T21:01:31.772194",
     "status": "completed"
    },
    "tags": []
   },
   "outputs": [
    {
     "name": "stdout",
     "output_type": "stream",
     "text": [
      "max leaf node  5  \t\t mean absluat error  35044\n",
      "max leaf node  25  \t\t mean absluat error  29016\n",
      "max leaf node  50  \t\t mean absluat error  27405\n",
      "max leaf node  100  \t\t mean absluat error  27282\n",
      "max leaf node  250  \t\t mean absluat error  27893\n",
      "max leaf node  500  \t\t mean absluat error  29454\n"
     ]
    },
    {
     "data": {
      "application/javascript": [
       "parent.postMessage({\"jupyterEvent\": \"custom.exercise_interaction\", \"data\": {\"outcomeType\": 1, \"valueTowardsCompletion\": 0.5, \"interactionType\": 1, \"questionType\": 1, \"questionId\": \"1_BestTreeSize\", \"learnToolsVersion\": \"0.3.4\", \"failureMessage\": \"\", \"exceptionClass\": \"\", \"trace\": \"\"}}, \"*\")"
      ],
      "text/plain": [
       "<IPython.core.display.Javascript object>"
      ]
     },
     "metadata": {},
     "output_type": "display_data"
    },
    {
     "data": {
      "text/markdown": [
       "<span style=\"color:#33cc33\">Correct</span>"
      ],
      "text/plain": [
       "Correct"
      ]
     },
     "metadata": {},
     "output_type": "display_data"
    }
   ],
   "source": [
    "candidate_max_leaf_nodes = [5, 25, 50, 100, 250, 500]\n",
    "# Write loop to find the ideal tree size from candidate_max_leaf_nodes\n",
    "for max_leaf_node in candidate_max_leaf_nodes :\n",
    "    mae=get_mae(max_leaf_node,train_X, val_X, train_y, val_y)\n",
    "    print('max leaf node  %d  \\t\\t mean absluat error  %d'%(max_leaf_node,mae))\n",
    "\n",
    "# Store the best value of max_leaf_nodes (it will be either 5, 25, 50, 100, 250 or 500)\n",
    "best_tree_size = 100\n",
    "\n",
    "# Check your answer\n",
    "step_1.check()"
   ]
  },
  {
   "cell_type": "code",
   "execution_count": 4,
   "id": "2fddc4c7",
   "metadata": {
    "execution": {
     "iopub.execute_input": "2022-02-14T21:01:31.865328Z",
     "iopub.status.busy": "2022-02-14T21:01:31.864692Z",
     "iopub.status.idle": "2022-02-14T21:01:31.866494Z",
     "shell.execute_reply": "2022-02-14T21:01:31.866937Z"
    },
    "papermill": {
     "duration": 0.018864,
     "end_time": "2022-02-14T21:01:31.867091",
     "exception": false,
     "start_time": "2022-02-14T21:01:31.848227",
     "status": "completed"
    },
    "tags": []
   },
   "outputs": [],
   "source": [
    "# The lines below will show you a hint or the solution.\n",
    "# step_1.hint() \n",
    "# step_1.solution()"
   ]
  },
  {
   "cell_type": "markdown",
   "id": "8ae42e7a",
   "metadata": {
    "papermill": {
     "duration": 0.013165,
     "end_time": "2022-02-14T21:01:31.893322",
     "exception": false,
     "start_time": "2022-02-14T21:01:31.880157",
     "status": "completed"
    },
    "tags": []
   },
   "source": [
    "## Step 2: Fit Model Using All Data\n",
    "You know the best tree size. If you were going to deploy this model in practice, you would make it even more accurate by using all of the data and keeping that tree size.  That is, you don't need to hold out the validation data now that you've made all your modeling decisions."
   ]
  },
  {
   "cell_type": "code",
   "execution_count": 5,
   "id": "589f6ad2",
   "metadata": {
    "execution": {
     "iopub.execute_input": "2022-02-14T21:01:31.926154Z",
     "iopub.status.busy": "2022-02-14T21:01:31.925540Z",
     "iopub.status.idle": "2022-02-14T21:01:31.936892Z",
     "shell.execute_reply": "2022-02-14T21:01:31.936264Z",
     "shell.execute_reply.started": "2022-02-14T21:00:11.748208Z"
    },
    "papermill": {
     "duration": 0.030935,
     "end_time": "2022-02-14T21:01:31.937018",
     "exception": false,
     "start_time": "2022-02-14T21:01:31.906083",
     "status": "completed"
    },
    "tags": []
   },
   "outputs": [
    {
     "data": {
      "application/javascript": [
       "parent.postMessage({\"jupyterEvent\": \"custom.exercise_interaction\", \"data\": {\"outcomeType\": 1, \"valueTowardsCompletion\": 0.5, \"interactionType\": 1, \"questionType\": 2, \"questionId\": \"2_FitModelWithAllData\", \"learnToolsVersion\": \"0.3.4\", \"failureMessage\": \"\", \"exceptionClass\": \"\", \"trace\": \"\"}}, \"*\")"
      ],
      "text/plain": [
       "<IPython.core.display.Javascript object>"
      ]
     },
     "metadata": {},
     "output_type": "display_data"
    },
    {
     "data": {
      "text/markdown": [
       "<span style=\"color:#33cc33\">Correct</span>"
      ],
      "text/plain": [
       "Correct"
      ]
     },
     "metadata": {},
     "output_type": "display_data"
    }
   ],
   "source": [
    "# Fill in argument to make optimal size and uncomment\n",
    "final_model =  DecisionTreeRegressor(max_leaf_nodes=100, random_state=0)\n",
    "\n",
    "# fit the final model and uncomment the next two lines\n",
    "final_model.fit(X,y)\n",
    "\n",
    "# Check your answer\n",
    "step_2.check()"
   ]
  },
  {
   "cell_type": "code",
   "execution_count": 6,
   "id": "c5e0a717",
   "metadata": {
    "execution": {
     "iopub.execute_input": "2022-02-14T21:01:31.969256Z",
     "iopub.status.busy": "2022-02-14T21:01:31.968642Z",
     "iopub.status.idle": "2022-02-14T21:01:31.970918Z",
     "shell.execute_reply": "2022-02-14T21:01:31.970250Z"
    },
    "papermill": {
     "duration": 0.020181,
     "end_time": "2022-02-14T21:01:31.971050",
     "exception": false,
     "start_time": "2022-02-14T21:01:31.950869",
     "status": "completed"
    },
    "tags": []
   },
   "outputs": [],
   "source": [
    "# step_2.hint()\n",
    "# step_2.solution()"
   ]
  },
  {
   "cell_type": "markdown",
   "id": "7c27edf8",
   "metadata": {
    "papermill": {
     "duration": 0.01343,
     "end_time": "2022-02-14T21:01:31.998724",
     "exception": false,
     "start_time": "2022-02-14T21:01:31.985294",
     "status": "completed"
    },
    "tags": []
   },
   "source": [
    "You've tuned this model and improved your results. But we are still using Decision Tree models, which are not very sophisticated by modern machine learning standards. In the next step you will learn to use Random Forests to improve your models even more.\n",
    "\n",
    "# Keep Going\n",
    "\n",
    "You are ready for **[Random Forests](https://www.kaggle.com/dansbecker/random-forests).**\n"
   ]
  },
  {
   "cell_type": "markdown",
   "id": "ffc577a1",
   "metadata": {
    "papermill": {
     "duration": 0.013839,
     "end_time": "2022-02-14T21:01:32.026741",
     "exception": false,
     "start_time": "2022-02-14T21:01:32.012902",
     "status": "completed"
    },
    "tags": []
   },
   "source": [
    "---\n",
    "\n",
    "\n",
    "\n",
    "\n",
    "*Have questions or comments? Visit the [course discussion forum](https://www.kaggle.com/learn/intro-to-machine-learning/discussion) to chat with other learners.*"
   ]
  }
 ],
 "metadata": {
  "kernelspec": {
   "display_name": "Python 3",
   "language": "python",
   "name": "python3"
  },
  "language_info": {
   "codemirror_mode": {
    "name": "ipython",
    "version": 3
   },
   "file_extension": ".py",
   "mimetype": "text/x-python",
   "name": "python",
   "nbconvert_exporter": "python",
   "pygments_lexer": "ipython3",
   "version": "3.7.12"
  },
  "papermill": {
   "default_parameters": {},
   "duration": 11.572578,
   "end_time": "2022-02-14T21:01:32.752018",
   "environment_variables": {},
   "exception": null,
   "input_path": "__notebook__.ipynb",
   "output_path": "__notebook__.ipynb",
   "parameters": {},
   "start_time": "2022-02-14T21:01:21.179440",
   "version": "2.3.3"
  }
 },
 "nbformat": 4,
 "nbformat_minor": 5
}
